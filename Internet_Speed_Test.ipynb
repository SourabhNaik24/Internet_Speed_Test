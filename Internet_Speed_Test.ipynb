{
  "nbformat": 4,
  "nbformat_minor": 0,
  "metadata": {
    "colab": {
      "name": "Internet Speed Test.ipynb",
      "provenance": []
    },
    "kernelspec": {
      "name": "python3",
      "display_name": "Python 3"
    }
  },
  "cells": [
    {
      "cell_type": "code",
      "metadata": {
        "id": "-UEWMHMMOK_5",
        "colab_type": "code",
        "colab": {}
      },
      "source": [
        "import speedtest"
      ],
      "execution_count": 0,
      "outputs": []
    },
    {
      "cell_type": "code",
      "metadata": {
        "id": "62GoNJpTOhDa",
        "colab_type": "code",
        "colab": {
          "base_uri": "https://localhost:8080/",
          "height": 85
        },
        "outputId": "bcefc0fd-6479-4892-84bc-56ed717a4864"
      },
      "source": [
        "#pip install speedtest-cli"
      ],
      "execution_count": 4,
      "outputs": [
        {
          "output_type": "stream",
          "text": [
            "Collecting speedtest-cli\n",
            "  Downloading https://files.pythonhosted.org/packages/c4/44/dfebd38c5fb35aae0a7279e2a3ffe33ca65edb449a586b93addc8d409a71/speedtest_cli-2.1.2-py2.py3-none-any.whl\n",
            "Installing collected packages: speedtest-cli\n",
            "Successfully installed speedtest-cli-2.1.2\n"
          ],
          "name": "stdout"
        }
      ]
    },
    {
      "cell_type": "code",
      "metadata": {
        "id": "_PgzbztSPBOa",
        "colab_type": "code",
        "colab": {}
      },
      "source": [
        "test = speedtest.Speedtest()\n",
        "download = test.download()\n",
        "upload = test.upload()"
      ],
      "execution_count": 0,
      "outputs": []
    },
    {
      "cell_type": "code",
      "metadata": {
        "id": "OruhFDB-PVxW",
        "colab_type": "code",
        "colab": {
          "base_uri": "https://localhost:8080/",
          "height": 34
        },
        "outputId": "b8d6720c-674d-4fec-c9d1-d82b7938faae"
      },
      "source": [
        "print(f\"Download Speed : {download} Upload Speed : {upload}\")"
      ],
      "execution_count": 15,
      "outputs": [
        {
          "output_type": "stream",
          "text": [
            "Download Speed : 2222021218.600667 Upload Speed : 331632522.48646384\n"
          ],
          "name": "stdout"
        }
      ]
    }
  ]
}